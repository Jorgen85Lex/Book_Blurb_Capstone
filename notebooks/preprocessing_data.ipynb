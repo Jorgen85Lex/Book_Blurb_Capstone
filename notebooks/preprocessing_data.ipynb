{
 "cells": [
  {
   "cell_type": "code",
   "execution_count": 1,
   "id": "0d7989ed",
   "metadata": {},
   "outputs": [],
   "source": [
    "import requests\n",
    "import pandas as pd\n",
    "import numpy as np\n",
    "\n",
    "from llama_index.core import SimpleDirectoryReader\n",
    "\n",
    "import re\n",
    "import os\n",
    "import json\n",
    "import time"
   ]
  },
  {
   "cell_type": "code",
   "execution_count": 2,
   "id": "a7ad6fc1",
   "metadata": {},
   "outputs": [
    {
     "data": {
      "text/plain": [
       "'c:\\\\Users\\\\lexil\\\\Documents\\\\NSS_Projects\\\\Book_Blurb_Capstone\\\\notebooks'"
      ]
     },
     "execution_count": 2,
     "metadata": {},
     "output_type": "execute_result"
    }
   ],
   "source": [
    "os.getcwd()"
   ]
  },
  {
   "cell_type": "code",
   "execution_count": 5,
   "id": "8f300be7",
   "metadata": {},
   "outputs": [],
   "source": [
    "with open('../data/fantasy_books_500.json', 'r') as file:\n",
    "    fantasy = json.load(file)\n",
    "\n",
    "pattern = re.compile(r'(\\d{4})')\n",
    "\n",
    "for book in fantasy:\n",
    "    original_date = book.get('published_date', '')\n",
    "    match = pattern.search(original_date)\n",
    "    if match:\n",
    "        book['published_date'] = match.group(1)\n",
    "    else:\n",
    "        book['published_date'] = original_date"
   ]
  },
  {
   "cell_type": "code",
   "execution_count": 6,
   "id": "d00179f1",
   "metadata": {},
   "outputs": [],
   "source": [
    "\n",
    "def extract_year(date_str):\n",
    "    match = re.search(r'\\b(\\d{4})\\b', date_str)\n",
    "    return match.group(1) if match else date_str \n",
    "\n",
    "for book in fantasy:\n",
    "    book['published_date'] = extract_year(book['published_date'])\n",
    "\n",
    "\n",
    "json_file_path = 'data/fantasy_books_500.json'\n",
    "\n",
    "with open('../data/fantasy_books_500.json', 'w', encoding='utf-8') as f:\n",
    "    json.dump(fantasy, f, ensure_ascii=False, indent=4)"
   ]
  },
  {
   "cell_type": "code",
   "execution_count": 7,
   "id": "959264e1",
   "metadata": {},
   "outputs": [],
   "source": [
    "with open('../data/historical_fiction_books_500.json', 'r') as file:\n",
    "    historical_fiction = json.load(file)\n",
    "\n",
    "pattern = re.compile(r'(\\d{4})')\n",
    "\n",
    "for book in historical_fiction:\n",
    "    original_date = book.get('published_date', '')\n",
    "    match = pattern.search(original_date)\n",
    "    if match:\n",
    "        book['published_date'] = match.group(1)\n",
    "    else:\n",
    "        book['published_date'] = original_date\n",
    "\n",
    "def extract_year(date_str):\n",
    "    match = re.search(r'\\b(\\d{4})\\b', date_str)\n",
    "    return match.group(1) if match else date_str \n",
    "\n",
    "for book in historical_fiction:\n",
    "    book['published_date'] = extract_year(book['published_date'])\n",
    "\n",
    "\n",
    "json_file_path = '../data/historical_fiction_books_500.json'\n",
    "\n",
    "with open('../data/historical_fiction_books_500.json', 'w', encoding='utf-8') as f:\n",
    "    json.dump(historical_fiction, f, ensure_ascii=False, indent=4)"
   ]
  },
  {
   "cell_type": "code",
   "execution_count": 8,
   "id": "a1ce6017",
   "metadata": {},
   "outputs": [],
   "source": [
    "with open('../data/mystery_books_500.json', 'r') as file:\n",
    "    mystery = json.load(file)\n",
    "\n",
    "pattern = re.compile(r'(\\d{4})')\n",
    "\n",
    "for book in mystery:\n",
    "    original_date = book.get('published_date', '')\n",
    "    match = pattern.search(original_date)\n",
    "    if match:\n",
    "        book['published_date'] = match.group(1)\n",
    "    else:\n",
    "        book['published_date'] = original_date\n",
    "\n",
    "def extract_year(date_str):\n",
    "    match = re.search(r'\\b(\\d{4})\\b', date_str)\n",
    "    return match.group(1) if match else date_str \n",
    "\n",
    "for book in mystery:\n",
    "    book['published_date'] = extract_year(book['published_date'])\n",
    "\n",
    "\n",
    "json_file_path = '../data/mystery_books_500.json'\n",
    "\n",
    "with open('../data/mystery_books_500.json', 'w', encoding='utf-8') as f:\n",
    "    json.dump(mystery, f, ensure_ascii=False, indent=4)"
   ]
  },
  {
   "cell_type": "code",
   "execution_count": 9,
   "id": "251456e0",
   "metadata": {},
   "outputs": [],
   "source": [
    "with open('../data/romance_books_500.json', 'r') as file:\n",
    "    romance = json.load(file)\n",
    "\n",
    "pattern = re.compile(r'(\\d{4})')\n",
    "\n",
    "for book in romance:\n",
    "    original_date = book.get('published_date', '')\n",
    "    match = pattern.search(original_date)\n",
    "    if match:\n",
    "        book['published_date'] = match.group(1)\n",
    "    else:\n",
    "        book['published_date'] = original_date\n",
    "\n",
    "def extract_year(date_str):\n",
    "    match = re.search(r'\\b(\\d{4})\\b', date_str)\n",
    "    return match.group(1) if match else date_str \n",
    "\n",
    "for book in romance:\n",
    "    book['published_date'] = extract_year(book['published_date'])\n",
    "\n",
    "\n",
    "json_file_path = '../data/romance_books_500.json'\n",
    "\n",
    "with open('../data/romance_books_500.json', 'w', encoding='utf-8') as f:\n",
    "    json.dump(romance, f, ensure_ascii=False, indent=4)"
   ]
  },
  {
   "cell_type": "code",
   "execution_count": 10,
   "id": "1932a312",
   "metadata": {},
   "outputs": [],
   "source": [
    "with open('../data/science_fiction_books_500.json', 'r') as file:\n",
    "    science_fiction = json.load(file)\n",
    "\n",
    "pattern = re.compile(r'(\\d{4})')\n",
    "\n",
    "for book in science_fiction:\n",
    "    original_date = book.get('published_date', '')\n",
    "    match = pattern.search(original_date)\n",
    "    if match:\n",
    "        book['published_date'] = match.group(1)\n",
    "    else:\n",
    "        book['published_date'] = original_date\n",
    "\n",
    "def extract_year(date_str):\n",
    "    match = re.search(r'\\b(\\d{4})\\b', date_str)\n",
    "    return match.group(1) if match else date_str \n",
    "\n",
    "for book in science_fiction:\n",
    "    book['published_date'] = extract_year(book['published_date'])\n",
    "\n",
    "\n",
    "json_file_path = '../data/science_fiction_books_500.json'\n",
    "\n",
    "with open('../data/science_fiction_books_500.json', 'w', encoding='utf-8') as f:\n",
    "    json.dump(science_fiction, f, ensure_ascii=False, indent=4)"
   ]
  },
  {
   "cell_type": "code",
   "execution_count": 11,
   "id": "58481262",
   "metadata": {},
   "outputs": [
    {
     "data": {
      "text/plain": [
       "'c:\\\\Users\\\\lexil\\\\Documents\\\\NSS_Projects\\\\Book_Blurb_Capstone\\\\notebooks'"
      ]
     },
     "execution_count": 11,
     "metadata": {},
     "output_type": "execute_result"
    }
   ],
   "source": [
    "os.getcwd()"
   ]
  },
  {
   "cell_type": "code",
   "execution_count": 12,
   "id": "d5b79775",
   "metadata": {},
   "outputs": [],
   "source": [
    "genre_files = {\n",
    "    'Fantasy': '../data/fantasy_books_500.json',\n",
    "    'Historical Fiction': '../data/historical_fiction_books_500.json',\n",
    "    'Mystery': '../data/mystery_books_500.json',\n",
    "    'Romance': '../data/romance_books_500.json',\n",
    "    'Science Fiction': '../data/science_fiction_books_500.json'\n",
    "}\n",
    "\n",
    "all_books = []\n",
    "\n",
    "for genre, file_name in genre_files.items():\n",
    "    with open(file_name, 'r', encoding='utf-8') as f:\n",
    "        books = json.load(f)\n",
    "        for book in books:\n",
    "            book['genre'] = genre\n",
    "        all_books.extend(books)\n",
    "\n",
    "with open('../data/all_books.json', 'w', encoding='utf-8') as f:\n",
    "    json.dump(all_books, f, ensure_ascii=False, indent=4)"
   ]
  }
 ],
 "metadata": {
  "kernelspec": {
   "display_name": "rag",
   "language": "python",
   "name": "python3"
  },
  "language_info": {
   "codemirror_mode": {
    "name": "ipython",
    "version": 3
   },
   "file_extension": ".py",
   "mimetype": "text/x-python",
   "name": "python",
   "nbconvert_exporter": "python",
   "pygments_lexer": "ipython3",
   "version": "3.12.10"
  }
 },
 "nbformat": 4,
 "nbformat_minor": 5
}
